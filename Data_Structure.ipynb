{
  "nbformat": 4,
  "nbformat_minor": 0,
  "metadata": {
    "colab": {
      "provenance": []
    },
    "kernelspec": {
      "name": "python3",
      "display_name": "Python 3"
    },
    "language_info": {
      "name": "python"
    }
  },
  "cells": [
    {
      "cell_type": "markdown",
      "source": [
        "Q.1\n",
        "   Comment code in Python is a way of adding explanatory notes to the code to make it more readable and understandable. Comment code is ignored by the Python interpreter and does not affect the execution of the program. There are three types of comment code in Python:\n",
        "\n",
        "    1.  Single line comments: These are comments that start with a hash mark (#) and end at the end of the line. They are used to explain a single line of code or add a brief note. For example:\n",
        "\n",
        "       #This is a single line comment\n",
        "       print(\"Hello, world!\") # This prints a message\n",
        "\n",
        "    2.  Multiline comments: These are comments that span multiple lines and are enclosed by triple quotes . They are used to explain a block of code or add a longer description. For example:\n",
        "        \n",
        "        \"\"\"\n",
        "        This is a multiline comment\n",
        "        that can span several lines\n",
        "        \"\"\"\n",
        "        print(\"This is a program\") # This is a single line comment\n",
        "\n",
        "    3.  Docstring comments: These are special comments that are used to document modules, classes, functions, and methods. They are also enclosed by triple quotes, but they must be the first statement in the scope they document. They can be accessed by using the __doc__ attribute or the help() function.For example:\n",
        "                                                                              \n",
        "    def add(x, y):\n",
        "    \"\"\"This is a docstring comment that describes the function.\n",
        "\n",
        "    It takes two parameters x and y and returns their sum.\n",
        "    \"\"\"\n",
        "    return x + y\n",
        "                                                                              \n",
        "\n",
        "    print(add.__doc__) # This prints the docstring comment\n",
        "    help(add) # This shows the documentation for the function"
      ],
      "metadata": {
        "id": "vy48atI3547s"
      }
    },
    {
      "cell_type": "markdown",
      "source": [
        "Q.2\n",
        "Variables in Python are names that refer to values stored in memory. They can be used to store and manipulate data in a program. To declare and assign values to variables in Python, you simply use the assignment operator (=) followed by the value you want to assign. For example:\n"
      ],
      "metadata": {
        "id": "-4bQ78lfIisf"
      }
    },
    {
      "cell_type": "code",
      "source": [
        "name=\"mahima\"\n",
        "age=21\n",
        "weight=45.78"
      ],
      "metadata": {
        "id": "Dlrr459Q86M2"
      },
      "execution_count": 2,
      "outputs": []
    },
    {
      "cell_type": "markdown",
      "source": [
        "Q.3 To convert one data type to another in Python, you can use casting functions that take a value as an argument and return a new value of the desired type. For example, you can use int() to convert a value to an integer, float() to convert a value to a floating-point number, str() to convert a value to a string, and bool() to convert a value to a boolean. For example:\n"
      ],
      "metadata": {
        "id": "1yAMCZOVI9Ue"
      }
    },
    {
      "cell_type": "code",
      "source": [
        "s=\"ram\"\n",
        "l=[1,2,3,4,\"kitty\",True]\n",
        "l+s #showing error bcz l and s have differnt data type so we will do type casting to solve this problem.\n"
      ],
      "metadata": {
        "colab": {
          "base_uri": "https://localhost:8080/",
          "height": 235
        },
        "id": "zkUAnyi5C1AO",
        "outputId": "340966bb-1fe0-4362-a0fe-eea239b94737"
      },
      "execution_count": null,
      "outputs": [
        {
          "output_type": "error",
          "ename": "TypeError",
          "evalue": "ignored",
          "traceback": [
            "\u001b[0;31m---------------------------------------------------------------------------\u001b[0m",
            "\u001b[0;31mTypeError\u001b[0m                                 Traceback (most recent call last)",
            "\u001b[0;32m<ipython-input-20-d2e3d9a17006>\u001b[0m in \u001b[0;36m<cell line: 3>\u001b[0;34m()\u001b[0m\n\u001b[1;32m      1\u001b[0m \u001b[0ms\u001b[0m\u001b[0;34m=\u001b[0m\u001b[0;34m\"ram\"\u001b[0m\u001b[0;34m\u001b[0m\u001b[0;34m\u001b[0m\u001b[0m\n\u001b[1;32m      2\u001b[0m \u001b[0ml\u001b[0m\u001b[0;34m=\u001b[0m\u001b[0;34m[\u001b[0m\u001b[0;36m1\u001b[0m\u001b[0;34m,\u001b[0m\u001b[0;36m2\u001b[0m\u001b[0;34m,\u001b[0m\u001b[0;36m3\u001b[0m\u001b[0;34m,\u001b[0m\u001b[0;36m4\u001b[0m\u001b[0;34m,\u001b[0m\u001b[0;34m\"kitty\"\u001b[0m\u001b[0;34m,\u001b[0m\u001b[0;32mTrue\u001b[0m\u001b[0;34m]\u001b[0m\u001b[0;34m\u001b[0m\u001b[0;34m\u001b[0m\u001b[0m\n\u001b[0;32m----> 3\u001b[0;31m \u001b[0ml\u001b[0m\u001b[0;34m+\u001b[0m\u001b[0ms\u001b[0m\u001b[0;31m# showing error bcz both s and l have different data type to solve this we will do type casting\u001b[0m\u001b[0;34m\u001b[0m\u001b[0;34m\u001b[0m\u001b[0m\n\u001b[0m\u001b[1;32m      4\u001b[0m \u001b[0ml\u001b[0m\u001b[0;34m+\u001b[0m\u001b[0mlist\u001b[0m\u001b[0;34m(\u001b[0m\u001b[0ms\u001b[0m\u001b[0;34m)\u001b[0m\u001b[0;34m\u001b[0m\u001b[0;34m\u001b[0m\u001b[0m\n",
            "\u001b[0;31mTypeError\u001b[0m: can only concatenate list (not \"str\") to list"
          ]
        }
      ]
    },
    {
      "cell_type": "code",
      "source": [
        "l+list(s) #here through type castting, the error can be resolved."
      ],
      "metadata": {
        "colab": {
          "base_uri": "https://localhost:8080/"
        },
        "id": "vaPUO8WEDbHY",
        "outputId": "9c09d464-0044-46ad-860d-495a2cf57b1a"
      },
      "execution_count": null,
      "outputs": [
        {
          "output_type": "execute_result",
          "data": {
            "text/plain": [
              "[1, 2, 3, 4, 'kitty', True, 'r', 'a', 'm']"
            ]
          },
          "metadata": {},
          "execution_count": 19
        }
      ]
    },
    {
      "cell_type": "markdown",
      "source": [
        "Q.4 To write and execute a Python script from the command line, you need to follow these steps:\n",
        "\n",
        "First, you need to create a text file that contains your Python code. You can use any text editor you like, such as Notepad, Sublime Text, VS Code, etc. You should save your file with a .py extension, such as myscript.py.\n",
        "\n",
        "Second, you need to open a command-line shell, such as cmd, PowerShell, or Bash. You can do this by pressing Windows + R and typing cmd or PowerShell, or by opening the Terminal app on Mac or Linux.\n",
        "\n",
        "Third, you need to navigate to the directory where your script is located. You can use the cd command to change directories, and the dir or ls command to list the files in the current directory.\n",
        "\n",
        "For example, if your script is in C:\\Users\\Mahima\\Documents\\Python, you can type cd C:\\Users\\Mahima\\Documents\\Python to go there.\n",
        "\n",
        "Fourth, you need to run your script using the python or python3 command, followed by the name of your script.\n",
        "\n",
        "For example, if your script is called myscript.py, you can type python myscript.py or python3 myscript.py to execute it. You should see the output of your script in the command-line window.\n",
        "\n",
        "\n"
      ],
      "metadata": {
        "id": "877ar-TFJHJX"
      }
    },
    {
      "cell_type": "code",
      "source": [
        "#Q.5 We can use the colon (:) operator to specify the start index, stop index, and step of the slice respectively.\n",
        "my_list=[1,2,3,4,5]\n",
        "my_list[1:3:1]  #  slicing my_list [1,2,3,4,5] to get the sub list [2,3]"
      ],
      "metadata": {
        "colab": {
          "base_uri": "https://localhost:8080/"
        },
        "id": "0z40AuiYJMa2",
        "outputId": "ab43bd6f-8858-4a58-8727-58e5d363c43f"
      },
      "execution_count": 5,
      "outputs": [
        {
          "output_type": "execute_result",
          "data": {
            "text/plain": [
              "[2, 3]"
            ]
          },
          "metadata": {},
          "execution_count": 5
        }
      ]
    },
    {
      "cell_type": "markdown",
      "source": [
        "Q.6 Complex number in mathematics is a combination of real and imaginary numbers.A complex number in mathematics is a number that can be written as a + bi, where a and b are real numbers and i is the imaginary unit that satisfies i^2 = -1.In Python, you can create and manipulate complex numbers using the built-in complex data type. You can write a complex number literal using the syntax a + bj, where a and b are any numeric values. For example:"
      ],
      "metadata": {
        "id": "hu1AaWIOK4cu"
      }
    },
    {
      "cell_type": "code",
      "source": [
        "c=5+3j  # This is a complex number\n",
        "print(type(c)) # This prints <class 'complex'>\n",
        "print(c.real)  # This prints real part of complex no\n",
        "print(c.imag)  # This prints imaginary part of complex no"
      ],
      "metadata": {
        "colab": {
          "base_uri": "https://localhost:8080/"
        },
        "id": "D3NqbdJQKqMx",
        "outputId": "932f23a2-93b4-4af3-df75-e27688ef9d9c"
      },
      "execution_count": null,
      "outputs": [
        {
          "output_type": "stream",
          "name": "stdout",
          "text": [
            "<class 'complex'>\n",
            "5.0\n",
            "3.0\n"
          ]
        }
      ]
    },
    {
      "cell_type": "markdown",
      "source": [
        "Q.7 To declare the variable age, it should not start with a number.\n",
        "   Age ,age and AGE is treated differently.It can be declared by alpha numeric characters and underscore. For Example"
      ],
      "metadata": {
        "id": "ORlxem43M3WY"
      }
    },
    {
      "cell_type": "code",
      "source": [
        "# age can be declared in the following ways...\n",
        "_age=25\n",
        "print(_age)\n",
        "age0=25\n",
        "print(age0)\n",
        "a_g_e=25\n",
        "print(a_g_e)"
      ],
      "metadata": {
        "colab": {
          "base_uri": "https://localhost:8080/"
        },
        "id": "bJ_sxkN5N3KP",
        "outputId": "d2b8a666-385c-415c-a623-085d53a6d668"
      },
      "execution_count": null,
      "outputs": [
        {
          "output_type": "stream",
          "name": "stdout",
          "text": [
            "25\n",
            "25\n",
            "25\n"
          ]
        }
      ]
    },
    {
      "cell_type": "code",
      "source": [
        "print(_Age) # _Age is not same as _age ie it is case sensitive."
      ],
      "metadata": {
        "colab": {
          "base_uri": "https://localhost:8080/",
          "height": 165
        },
        "id": "LN8DfB81N77Y",
        "outputId": "5a085f02-0ea2-4921-99df-12c1e9d44dcc"
      },
      "execution_count": null,
      "outputs": [
        {
          "output_type": "error",
          "ename": "NameError",
          "evalue": "ignored",
          "traceback": [
            "\u001b[0;31m---------------------------------------------------------------------------\u001b[0m",
            "\u001b[0;31mNameError\u001b[0m                                 Traceback (most recent call last)",
            "\u001b[0;32m<ipython-input-28-77a12f083c13>\u001b[0m in \u001b[0;36m<cell line: 1>\u001b[0;34m()\u001b[0m\n\u001b[0;32m----> 1\u001b[0;31m \u001b[0mprint\u001b[0m\u001b[0;34m(\u001b[0m\u001b[0m_Age\u001b[0m\u001b[0;34m)\u001b[0m\u001b[0;34m\u001b[0m\u001b[0;34m\u001b[0m\u001b[0m\n\u001b[0m",
            "\u001b[0;31mNameError\u001b[0m: name '_Age' is not defined"
          ]
        }
      ]
    },
    {
      "cell_type": "code",
      "source": [
        "#Q.8\n",
        "price=9.99 # Declaring a variable price and assigning the value to it\n",
        "type(price)# price belongs to float data type."
      ],
      "metadata": {
        "colab": {
          "base_uri": "https://localhost:8080/"
        },
        "id": "8CO-N9dON_vC",
        "outputId": "c56620d1-9a8a-4905-8bf2-6f5c4c2cbcef"
      },
      "execution_count": null,
      "outputs": [
        {
          "output_type": "execute_result",
          "data": {
            "text/plain": [
              "float"
            ]
          },
          "metadata": {},
          "execution_count": 32
        }
      ]
    },
    {
      "cell_type": "code",
      "source": [
        "#Q.9\n",
        "name=\"mahima shukla\" # creating and assigning value to variable name\n",
        "print(name)          # printing value of variable name using print() function"
      ],
      "metadata": {
        "colab": {
          "base_uri": "https://localhost:8080/"
        },
        "id": "ucukTlv4PCI6",
        "outputId": "545794ee-9d87-4c9a-a2e3-db4ba3456a22"
      },
      "execution_count": null,
      "outputs": [
        {
          "output_type": "stream",
          "name": "stdout",
          "text": [
            "mahima shukla\n"
          ]
        }
      ]
    },
    {
      "cell_type": "code",
      "source": [
        "#Q.10\n",
        "s=\"Hello, World!\" # string s is given\n",
        "s[6:12]           # slicing the string s\n"
      ],
      "metadata": {
        "colab": {
          "base_uri": "https://localhost:8080/",
          "height": 36
        },
        "id": "r0QxUWC8PVIY",
        "outputId": "de60ac21-eb6d-48df-dbf3-e6ef6382e364"
      },
      "execution_count": null,
      "outputs": [
        {
          "output_type": "execute_result",
          "data": {
            "text/plain": [
              "' World'"
            ],
            "application/vnd.google.colaboratory.intrinsic+json": {
              "type": "string"
            }
          },
          "metadata": {},
          "execution_count": 40
        }
      ]
    },
    {
      "cell_type": "code",
      "source": [
        "#Q.11\n",
        "is_student=True      # assigning boolean value to variable is_student\n",
        "if is_student==True: # applying  condition if its True, if part will execute otherwise else prt will execute.\n",
        "    print(\"you are currently a student\")\n",
        "else:\n",
        "    print(\"you are not currently a student\")\n",
        "\n"
      ],
      "metadata": {
        "colab": {
          "base_uri": "https://localhost:8080/"
        },
        "id": "HpFYmNohSJpV",
        "outputId": "dc71d456-9abf-4b81-9c0f-db80486e04c3"
      },
      "execution_count": null,
      "outputs": [
        {
          "output_type": "stream",
          "name": "stdout",
          "text": [
            "you are currently a student\n"
          ]
        }
      ]
    }
  ]
}